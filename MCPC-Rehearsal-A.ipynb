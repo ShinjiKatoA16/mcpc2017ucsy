{
 "cells": [
  {
   "cell_type": "markdown",
   "metadata": {},
   "source": [
    "# MCPC rehearsal problem Oct 25 2017 at UCSY\n",
    "\n",
    "## Problem A: Query Langueage Interpreter\n",
    "\n",
    "### Input format\n",
    "\n",
    "- 1st Line: 2 integer, Number of DataBase (**n**) and Number of Query (**m**)\n",
    "- **n** Lines: Database record\n",
    "- **m** Lines: Query\n",
    "\n",
    "### Output\n",
    "\n",
    "Replay proper data according to query and database\n",
    "\n",
    "### Sample Input\n",
    "\n",
    "```\n",
    "2 4\n",
    "LIVINGROOM SMITH PIANO\n",
    "BATHROOM JONES TOOTHBRUSH\n",
    "WHERE IS JONES?\n",
    "WHAT IS IN THE LIVINGROOM?\n",
    "WHAT IS IN THE VARDAGSRUM?\n",
    "WHO ARE MY WOMBAT?\n",
    "```\n",
    "\n",
    "### Sample output\n",
    "\n",
    "```\n",
    "BATHROOM\n",
    "PIANO\n",
    "UNKNOWN\n",
    "ERROR\n",
    "```\n",
    "\n",
    "### Explanation of Problem A\n",
    "\n",
    "- 1st step\n",
    "\n",
    "input data needs to be analyzed. *split* method converts String to List. Java has *split* method. In case of C, external routine is required (or need to write by ourselves)."
   ]
  },
  {
   "cell_type": "code",
   "execution_count": null,
   "metadata": {
    "collapsed": true
   },
   "outputs": [],
   "source": [
    "# Read 1st Line -> split to List, apply int() function to all emelment\n",
    "# num_db, num_query = map(int, sys.stdin.readline().split())\n",
    "\n",
    "# import sys\n",
    "# s = sys.stdin.readline()\n",
    "# jupyter can not handle stdin properly\n",
    "\n",
    "s = input()\n",
    "x = s.split()\n",
    "num_db = int(x[0])\n",
    "num_query = int(x[1])\n",
    "\n",
    "print(s, type(s), x, type(x), num_db, num_query)"
   ]
  },
  {
   "cell_type": "markdown",
   "metadata": {},
   "source": [
    "- 2nd step\n",
    "\n",
    "Create DataBase\n",
    "If data size is big, binary search or hash search is required. If data size is small enough, sequential search is easier."
   ]
  },
  {
   "cell_type": "code",
   "execution_count": null,
   "metadata": {
    "collapsed": true
   },
   "outputs": [],
   "source": [
    "print('Enter', num_db, 'DataBase record: Place Person Object')\n",
    "database = list()\n",
    "\n",
    "for i in range(num_db):\n",
    "    s = input()\n",
    "    x = s.split()\n",
    "    database.append(x)\n",
    "    \n",
    "print(database)"
   ]
  },
  {
   "cell_type": "markdown",
   "metadata": {},
   "source": [
    "- 3rd step\n",
    "\n",
    "Handle query. It is better to check not only each words but also the length of query. Proper handling of **WHERE IS** and **WHERE IS THE** is important.\n"
   ]
  },
  {
   "cell_type": "code",
   "execution_count": null,
   "metadata": {
    "collapsed": true
   },
   "outputs": [],
   "source": [
    "def who_is(location):\n",
    "    '''\n",
    "    location: String ended with ?\n",
    "    Return name (database record index-1) if location (databse record index-0) match location,\n",
    "           None if no record\n",
    "    '''\n",
    "    where = location[:len(location)-1]\n",
    "    for rec in database:\n",
    "        if rec[0] == where:\n",
    "            return rec[1]\n",
    "        \n",
    "    return None\n",
    "\n",
    "def answer_query(query):\n",
    "    '''\n",
    "    qyery: String\n",
    "    rerurn: None\n",
    "    '''\n",
    "    \n",
    "    query_l = query.split()\n",
    "    \n",
    "    if len(query_l) == 5:\n",
    "        if query_l[:4] == ['WHO', 'IS', 'IN', 'THE']:\n",
    "            location = who_is(query_l[4])\n",
    "            if location == None:\n",
    "                print('UNKNOWN')\n",
    "            else:\n",
    "                print(location)\n",
    "        # elif query_l[:4] == ['WHAT', 'IS', 'IN', 'THE']:\n",
    "        else:\n",
    "            print('ERROR')\n",
    "    # elif len(query_l) == 4:\n",
    "    else:\n",
    "        print('ERROR')"
   ]
  },
  {
   "cell_type": "code",
   "execution_count": null,
   "metadata": {
    "collapsed": true
   },
   "outputs": [],
   "source": [
    "print('Enter', num_query, 'QUERY')\n",
    "\n",
    "for i in range(num_query):\n",
    "    s = input()\n",
    "    answer_query(s)"
   ]
  },
  {
   "cell_type": "markdown",
   "metadata": {},
   "source": [
    "## Bisection search (aka BInary search)  (aka: also known as)\n",
    "\n",
    "Bisection search is a efficient algorithm to search a element in sorted array. Search it on Web and modify this program using it."
   ]
  },
  {
   "cell_type": "markdown",
   "metadata": {},
   "source": [
    "## Hash search\n",
    "\n",
    "Hash search is another efficient algorithm, but not easy to imlement from scratch. Python's dictionary uses hash algorithm."
   ]
  },
  {
   "cell_type": "markdown",
   "metadata": {},
   "source": [
    "### Program to solve Rehearsal-A\n",
    "\n",
    "In the following example, query checking part is not optimized."
   ]
  },
  {
   "cell_type": "code",
   "execution_count": null,
   "metadata": {
    "collapsed": true
   },
   "outputs": [],
   "source": [
    "#!/usr/bin/python3\n",
    "# -*- coding: utf-8 -*-\n",
    "\n",
    "'''\n",
    "2017 MCPC Rehearsal Problem-A\n",
    "Query Langueage Interpreter\n",
    "'''\n",
    "\n",
    "import sys\n",
    "\n",
    "def analyze_db(num_db, infile):\n",
    "    '''\n",
    "    Read infile whihch contains 'Room Person Object'\n",
    "    return 4 dictionary:\n",
    "        room_p: Key Room, Value Person\n",
    "        room_o: Key Room, Value Object\n",
    "        person: Key Person, Value Room\n",
    "        obj:    Key Object, Value Room\n",
    "    '''\n",
    "\n",
    "    room_p = dict()\n",
    "    room_o = dict()\n",
    "    person = dict()\n",
    "    obj = dict()\n",
    "\n",
    "    for i in range(num_db):\n",
    "        room, psn, ob = infile.readline().split()\n",
    "        room_p[room] = psn\n",
    "        room_o[room] = ob\n",
    "        person[psn] = room\n",
    "        obj[ob] = room\n",
    "\n",
    "    return room_p, room_o, person, obj\n",
    "\n",
    "num_db, num_query = map(int, sys.stdin.readline().split())\n",
    "\n",
    "room_p, room_o, person, obj = analyze_db(num_db, sys.stdin)\n",
    "\n",
    "for i in range(num_query):\n",
    "    query = sys.stdin.readline().split()\n",
    "    len_q = len(query)\n",
    "\n",
    "    if len_q == 5 and query[0:4] == ['WHO', 'IS', 'IN', 'THE']:\n",
    "        finding = query[4][:len(query[4])-1]\n",
    "        if finding in room_p:\n",
    "            print(room_p[finding])\n",
    "        else:\n",
    "            print('UNKNOWN')\n",
    "    elif len_q == 5 and query[0:4] == ['WHAT', 'IS', 'IN', 'THE']:\n",
    "        finding = query[4][:len(query[4])-1]\n",
    "        if finding in room_o:\n",
    "            print(room_o[finding])\n",
    "        else:\n",
    "            print('UNKNOWN')\n",
    "    elif len_q == 4 and query[0:3] == ['WHERE', 'IS', 'THE']:\n",
    "        finding = query[3][:len(query[3])-1]\n",
    "        if finding in obj:\n",
    "            print(obj[finding])\n",
    "        else:\n",
    "            print('UNKNOWN')\n",
    "    elif len_q == 3 and query[0:2] == ['WHERE', 'IS']:\n",
    "        finding = query[2][:len(query[2])-1]\n",
    "        if finding in person:\n",
    "            print(person[finding])\n",
    "        else:\n",
    "            print('UNKNOWN')\n",
    "    else:\n",
    "        print('ERROR')\n"
   ]
  }
 ],
 "metadata": {
  "kernelspec": {
   "display_name": "Python 3",
   "language": "python",
   "name": "python3"
  },
  "language_info": {
   "codemirror_mode": {
    "name": "ipython",
    "version": 3
   },
   "file_extension": ".py",
   "mimetype": "text/x-python",
   "name": "python",
   "nbconvert_exporter": "python",
   "pygments_lexer": "ipython3",
   "version": "3.6.2"
  }
 },
 "nbformat": 4,
 "nbformat_minor": 2
}
