{
 "cells": [
  {
   "cell_type": "code",
   "execution_count": null,
   "metadata": {},
   "outputs": [],
   "source": [
    "%autosave 0"
   ]
  },
  {
   "cell_type": "markdown",
   "metadata": {},
   "source": [
    "# MCPC rehearsal problem Oct 25 2017 at UCSY\n",
    "\n",
    "## Problem E: Stacking Plates\n",
    "\n",
    "### Input format\n",
    "\n",
    "- 1st Line: 1 integer, Number of Test Case, each Test Case has following data\n",
    "   + 1 Line: 1 integer, **n**(Number of Stacks)\n",
    "   + **n** Lines: first integer: **h** (Number of Plates), and **h** integers (Plate size)\n",
    "   \n",
    "\n",
    "### Output format\n",
    "\n",
    "Case: (test case number): Number of Operations\n",
    "\n",
    "\n",
    "### Sample Input\n",
    "\n",
    "```\n",
    "3\n",
    "2\n",
    "3 1 2 4\n",
    "2 3 5\n",
    "3\n",
    "4 1 1 1 1\n",
    "4 1 1 1 1\n",
    "4 1 1 1 1\n",
    "2\n",
    "15 1 1 1 1 1 2 2 2 2 2 3 3 3 3 3\n",
    "15 1 1 1 1 1 2 2 2 2 2 3 3 3 3 3\n",
    "```\n",
    "\n",
    "\n",
    "### Sample Output\n",
    "\n",
    "```\n",
    "Case 1:5\n",
    "Case 2:2\n",
    "Case 3:5\n",
    "```\n",
    "\n",
    "### Explanation of sample I/O\n",
    "\n",
    "- 3 test cases\n",
    "    + Stack of (1,2,4) and (3,5)\n",
    "    + Stack of 3 (1,1,1,1)\n",
    "    + Stack of 2 (1,1,1,1,1,2,2,2,2,2,3,3,3,3,3)\n",
    "    \n",
    "- 1st case:\n",
    "Split between 2 and 4, 3 and 5, Move 4 on 5, 3 on 4, (1,2) on 3  ==> Total 5 operations\n",
    "\n",
    "- 2nd case:\n",
    "Move 1st stack (1,1,1,1,1) on 2nd stack, move (1st+2nd stack) on 3rd stack  ==> Total 2 operations\n",
    "\n",
    "- 3rd case:\n",
    "Split between 1 and 2 of 1st stack, between 2 and 3 of 2nd stack, move (2,2,2,2,2,3,3,3,3,3) of 1st stack on (3,3,3,3,3) of 2nd, move (1,1,1,1,1,2,2,2,2,2) of 2nd stack on it, move (1,1,1,1,1) on top  ==> Total 5 operations"
   ]
  },
  {
   "cell_type": "markdown",
   "metadata": {},
   "source": [
    "### Specific vs Abstract,  Find a General Rule from Detail\n",
    "\n",
    "When solving problems and puzzles that you can find how to solve, thinking specificlly then abstractly is important. Finding general rules from specific examples give you a path to the answer.\n",
    "\n",
    "- Think about simple cases\n",
    "- Find general pattern (idea, rule) from there\n",
    "- Proove the rule (if possible)\n",
    "- Extend the rule to more complex cases"
   ]
  },
  {
   "cell_type": "markdown",
   "metadata": {},
   "source": [
    "### How to calculate number of operation(movement)\n",
    "\n",
    "If there are N stacks and each contains just 1 piece (Split is not necessary), (N-1) operations are reuired. (N-1) is a minimum number of oprations.\n",
    "\n",
    "For each Split operation, Join operation is required to create single stack. Total number of operation increases by 2 for each Split operations (S). The order of Split and Join does not affect total number of movement. (Split-Split-Join-Join) = (Split-Join-Split-Join) \\begin{equation} Nmber Of Movement = 2S + (N-1) \\end{equation}\n",
    "\n",
    "Same size of pieces in original stacks (Case 2 and Case 3) can be considered to be same as single piece. Case 2: 3 stack of (1), Case 3: 2 stack of (1,2,3)"
   ]
  },
  {
   "cell_type": "markdown",
   "metadata": {},
   "source": [
    "### Optimized movement\n",
    "\n",
    "Reverse-Thinking is sometimes very effective. Create Final Stack and check the boundary. If the combination of the boundary exists in original stacks, it can be used (not necessary to split).\n",
    "\n",
    "$S = (Maximum Number Of Split) - (Number Of Reused Boundary)$\n",
    "\n",
    "- Case 1: [1,2,3,4,5] is final form. Boundary of [1,2] exist in Original Stack-1, $S=(2+1)-1=2, Movement=2*2+(2-1)=5$\n",
    "- Case 2: Convert original stacks to [1], $Movement=2*0+(3-1)=2$\n",
    "- Case 3: Convert original stacks to [1,2,3], Final form is [1,1,2,2,3,3]. Boundary of [1,2] and [2,3] exists. $S=(2+2)-2=2$"
   ]
  },
  {
   "cell_type": "markdown",
   "metadata": {},
   "source": [
    "### Sample I/O gives hint\n",
    "\n",
    "Sample Input/Output often gives great hint to solve problems. Same number in original stack cause problem in above idea, but same number can be considered to be 1 digit, so convert input data to eliminate duplicate number."
   ]
  },
  {
   "cell_type": "code",
   "execution_count": null,
   "metadata": {
    "collapsed": true
   },
   "outputs": [],
   "source": [
    "def orderSet2(list_):\n",
    "    temp_set = set(list_)\n",
    "    uniq_list = list(temp_set)\n",
    "    uniq_list.sort()\n",
    "    return uniq_list\n",
    "\n",
    "def orderSet(list_):\n",
    "    uniq_list = list()\n",
    "    prev = None\n",
    "    for val in list_:\n",
    "        if val != prev:\n",
    "            uniq_list.append(val)\n",
    "            prev = val\n",
    "            \n",
    "    return uniq_list\n",
    "\n",
    "def convert_stack(stack):\n",
    "    stack_size = stack[0]\n",
    "    \n",
    "    if len(stack) != stack_size + 1:\n",
    "        raise ValueError\n",
    "    \n",
    "    return orderSet2(stack[1:])\n",
    "\n",
    "def solve(infile):\n",
    "    \n",
    "    num_stacks = int(infile.readline())\n",
    "    orig_stacks = list()  # List of List\n",
    "    merged_stack = list() # Final form\n",
    "    \n",
    "    for i in range(num_stacks):\n",
    "        stack = list(map(int, infile.readline().split()))\n",
    "        orig_stacks.append(convert_stack(stack))\n",
    "        merged_stack.extend(orig_stacks[-1])\n",
    "        \n",
    "    merged_stack.sort()\n",
    "    num_reuse = 0\n",
    "    \n",
    "    for p in range(len(merged_stack) -1):\n",
    "        a, b = merged_stack[p], merged_stack[p+1]\n",
    "        for stack in orig_stacks:\n",
    "            # print('Searching', a, b, 'in', stack)\n",
    "            if a in stack and b in stack and stack.index(b) == stack.index(a)+1:\n",
    "                # print('Found!')\n",
    "                num_reuse += 1\n",
    "                break\n",
    "    \n",
    "    num_split = 0\n",
    "    for stack in orig_stacks:\n",
    "        num_split += len(stack) - 1\n",
    "        \n",
    "    num_split -= num_reuse\n",
    "    \n",
    "    # print('num_split:', num_split, 'num_reuse:', num_reuse, num_stacks)\n",
    "    return num_split * 2 + (num_stacks - 1)"
   ]
  },
  {
   "cell_type": "code",
   "execution_count": null,
   "metadata": {},
   "outputs": [],
   "source": [
    "### Main routine\n",
    "\n",
    "infile = open('reh_e.in', 'r')\n",
    "num_tc = int(infile.readline())\n",
    "\n",
    "for i in range(num_tc):\n",
    "    result = solve(infile)\n",
    "    print('Case ', i+1, ':', result, sep='')"
   ]
  }
 ],
 "metadata": {
  "kernelspec": {
   "display_name": "Python 3",
   "language": "python",
   "name": "python3"
  },
  "language_info": {
   "codemirror_mode": {
    "name": "ipython",
    "version": 3
   },
   "file_extension": ".py",
   "mimetype": "text/x-python",
   "name": "python",
   "nbconvert_exporter": "python",
   "pygments_lexer": "ipython3",
   "version": "3.6.2"
  }
 },
 "nbformat": 4,
 "nbformat_minor": 2
}
