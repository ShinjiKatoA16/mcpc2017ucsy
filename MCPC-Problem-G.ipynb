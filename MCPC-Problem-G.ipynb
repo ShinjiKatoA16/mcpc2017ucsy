{
 "cells": [
  {
   "cell_type": "code",
   "execution_count": null,
   "metadata": {
    "collapsed": true
   },
   "outputs": [],
   "source": [
    "%autosave 0"
   ]
  },
  {
   "cell_type": "markdown",
   "metadata": {},
   "source": [
    "# MCPC Oct 26 2017 at UCSY\n",
    "\n",
    "## Problem G Concrete Pathway around Pool\n",
    "\n",
    "### Input format\n",
    "\n",
    "- 1st Line: 1 integer, Number of Test Case, each Test Case contains 2 lines\n",
    "   + tc Line 1: Pool length, Pool width\n",
    "   + tc Line 2: Pathway area\n",
    "   \n",
    "### Output format\n",
    "\n",
    "- Float number (xxxx.yy 2 digit below 0) width of pathway"
   ]
  },
  {
   "cell_type": "markdown",
   "metadata": {},
   "source": [
    "### Mathematical rule\n",
    "\n",
    "If you remember the **quadratic formula**, just apply that.\n",
    "\\begin{equation}\n",
    "ax^2+bx+c=0 \\\\\n",
    "x = \\frac{-b \\pm \\sqrt{b^2-4ac}}{2a}\n",
    "\\end{equation}"
   ]
  },
  {
   "cell_type": "code",
   "execution_count": null,
   "metadata": {
    "collapsed": true
   },
   "outputs": [],
   "source": [
    "def solve(tc):\n",
    "    '''\n",
    "        Input: Test Case\n",
    "        Return: None\n",
    "\n",
    "        ax^2 + bx + c = 0  --> x = (-b +- sqrt(b^2 - 4ac)) / 2a\n",
    "        (l+2x)(w+2x)-lw = A  --> 4x^2+2(l+w)x-A = 0\n",
    "    '''\n",
    "\n",
    "    parse_tc(tc)\n",
    "    \n",
    "    a = 4  # 4x^2\n",
    "    b = 2*(tc.l+tc.w)\n",
    "    c = -(tc.a)\n",
    "\n",
    "    x = (-b + ((b**2 - 4*a*c)**0.5)) / (2*a)  # only positive value\n",
    "\n",
    "    print(round(x,2))\n",
    "    return\n"
   ]
  },
  {
   "cell_type": "markdown",
   "metadata": {},
   "source": [
    "### Binary search\n",
    "\n",
    "If you forgot mathematical formula, we can find approximation using **binary search**."
   ]
  },
  {
   "cell_type": "code",
   "execution_count": null,
   "metadata": {
    "collapsed": true
   },
   "outputs": [],
   "source": [
    "def search_lowhigh(tc, low, high):\n",
    "    low_area = (tc.w + low*2) * (tc.l + low*2) - (tc.w * tc.l)\n",
    "    high_area = (tc.w + high*2) * (tc.l + high*2) - (tc.w * tc.l)\n",
    "    if low_area <= tc.a and high_area >= tc.a:\n",
    "        return low, high\n",
    "    elif high_area < tc.a:\n",
    "        return search_lowhigh(tc, high, high*2)\n",
    "    else:\n",
    "        raise 'Logic error'\n",
    "\n",
    "\n",
    "def bsearch(tc, low, high):\n",
    "    mid = (low+high) / 2\n",
    "    area = (tc.w + mid*2) * (tc.l + mid*2) - (tc.w * tc.l)\n",
    "\n",
    "    if area < tc.a:\n",
    "        if high-mid <= 0.001:\n",
    "            return (high+mid) / 2\n",
    "        else:\n",
    "            return bsearch(tc, mid, high)\n",
    "    else:\n",
    "        if mid-low <= 0.001:\n",
    "            return (mid+low) / 2\n",
    "        else:\n",
    "            return bsearch(tc, low, mid)\n",
    "        \n",
    "        \n",
    "def solve(tc):\n",
    "    '''\n",
    "        Input: Test Case\n",
    "        Return: None\n",
    "    '''\n",
    "\n",
    "    parse_tc(tc)\n",
    "\n",
    "    low, high = search_lowhigh(tc, 0, 1)\n",
    "\n",
    "    x = bsearch(tc, low, high)\n",
    "\n",
    "    print(round(x,2))\n",
    "    return"
   ]
  }
 ],
 "metadata": {
  "kernelspec": {
   "display_name": "Python 3",
   "language": "python",
   "name": "python3"
  },
  "language_info": {
   "codemirror_mode": {
    "name": "ipython",
    "version": 3
   },
   "file_extension": ".py",
   "mimetype": "text/x-python",
   "name": "python",
   "nbconvert_exporter": "python",
   "pygments_lexer": "ipython3",
   "version": "3.6.2"
  }
 },
 "nbformat": 4,
 "nbformat_minor": 2
}
